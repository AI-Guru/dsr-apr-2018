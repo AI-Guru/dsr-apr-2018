{
 "cells": [
  {
   "cell_type": "code",
   "execution_count": 2,
   "metadata": {},
   "outputs": [
    {
     "name": "stdout",
     "output_type": "stream",
     "text": [
      "(60000, 28, 28)\n",
      "(60000, 28, 28, 3)\n"
     ]
    }
   ],
   "source": [
    "import numpy as np\n",
    "\n",
    "# (samples, width, height)\n",
    "images = np.random.random((6000, 28, 28))\n",
    "print(images.shape)\n",
    "\n",
    "# (samples, width, height, depth) RGB\n",
    "images = np.random.random((6000, 28, 28, 3))\n",
    "print(images.shape)\n",
    "\n",
    "# (samples, width, height, depth) RGB + Depth\n",
    "images = np.random.random((6000, 28, 28, 4))\n",
    "print(images.shape)\n",
    "\n",
    "# (samples, width, height, depth) RGB\n",
    "images = np.random.random((6000, 28, 28, 1))\n",
    "print(images.shape)"
   ]
  },
  {
   "cell_type": "code",
   "execution_count": 3,
   "metadata": {},
   "outputs": [
    {
     "name": "stdout",
     "output_type": "stream",
     "text": [
      "(6000, 100, 28, 28, 3)\n"
     ]
    }
   ],
   "source": [
    "video = np.random.random((6000, 100, 28, 28, 3))\n",
    "print(video.shape)"
   ]
  },
  {
   "cell_type": "code",
   "execution_count": 15,
   "metadata": {},
   "outputs": [
    {
     "name": "stdout",
     "output_type": "stream",
     "text": [
      "_________________________________________________________________\n",
      "Layer (type)                 Output Shape              Param #   \n",
      "=================================================================\n",
      "dense_12 (Dense)             (None, 20)                4704020   \n",
      "=================================================================\n",
      "Total params: 4,704,020\n",
      "Trainable params: 4,704,020\n",
      "Non-trainable params: 0\n",
      "_________________________________________________________________\n"
     ]
    }
   ],
   "source": [
    "from keras import models\n",
    "from keras import layers\n",
    "\n",
    "model = models.Sequential()\n",
    "model.add(layers.Dense(20, input_shape=(100 * 28 * 28 * 3,)))\n",
    "\n",
    "model.summary()"
   ]
  },
  {
   "cell_type": "code",
   "execution_count": 18,
   "metadata": {},
   "outputs": [
    {
     "name": "stdout",
     "output_type": "stream",
     "text": [
      "(6000, 20, 8)\n"
     ]
    }
   ],
   "source": [
    "audio_stereo = np.random.random((6000, 44100, 2))\n",
    "audio_mono = np.random.random((6000, 44100, 1))\n",
    "print(xxx.shape)"
   ]
  },
  {
   "cell_type": "code",
   "execution_count": null,
   "metadata": {},
   "outputs": [],
   "source": [
    "# (samples, timesteps, features)\n",
    "timeseries_data = np.random.random((6000, 80, 40+1))"
   ]
  }
 ],
 "metadata": {
  "kernelspec": {
   "display_name": "Python 3",
   "language": "python",
   "name": "python3"
  },
  "language_info": {
   "codemirror_mode": {
    "name": "ipython",
    "version": 3
   },
   "file_extension": ".py",
   "mimetype": "text/x-python",
   "name": "python",
   "nbconvert_exporter": "python",
   "pygments_lexer": "ipython3",
   "version": "3.6.4"
  }
 },
 "nbformat": 4,
 "nbformat_minor": 2
}
