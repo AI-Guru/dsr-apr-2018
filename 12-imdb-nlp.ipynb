{
 "cells": [
  {
   "cell_type": "code",
   "execution_count": 1,
   "metadata": {},
   "outputs": [
    {
     "name": "stderr",
     "output_type": "stream",
     "text": [
      "/Users/tristanbehrens/Development/python-venvs/venv-3.6/lib/python3.6/site-packages/h5py/__init__.py:36: FutureWarning: Conversion of the second argument of issubdtype from `float` to `np.floating` is deprecated. In future, it will be treated as `np.float64 == np.dtype(float).type`.\n",
      "  from ._conv import register_converters as _register_converters\n",
      "Using TensorFlow backend.\n"
     ]
    },
    {
     "name": "stdout",
     "output_type": "stream",
     "text": [
      "(25000,)\n",
      "(25000,)\n",
      "(25000, 20)\n",
      "(25000, 20)\n"
     ]
    }
   ],
   "source": [
    "from keras.datasets import imdb\n",
    "from keras import preprocessing\n",
    "\n",
    "max_features = 10000\n",
    "maxlen = 20\n",
    "\n",
    "(x_train, y_train), (x_test, y_test) = imdb.load_data(num_words=max_features)\n",
    "\n",
    "print(x_train.shape)\n",
    "print(x_test.shape)\n",
    "\n",
    "x_train = preprocessing.sequence.pad_sequences(x_train, maxlen=maxlen)\n",
    "x_test = preprocessing.sequence.pad_sequences(x_test, maxlen=maxlen)\n",
    "\n",
    "print(x_train.shape)\n",
    "print(x_test.shape)"
   ]
  },
  {
   "cell_type": "code",
   "execution_count": 2,
   "metadata": {},
   "outputs": [
    {
     "name": "stdout",
     "output_type": "stream",
     "text": [
      "[  65   16   38 1334   88   12   16  283    5   16 4472  113  103   32\n",
      "   15   16 5345   19  178   32]\n"
     ]
    }
   ],
   "source": [
    "print(x_train[0])"
   ]
  },
  {
   "cell_type": "code",
   "execution_count": 10,
   "metadata": {},
   "outputs": [
    {
     "name": "stdout",
     "output_type": "stream",
     "text": [
      "_________________________________________________________________\n",
      "Layer (type)                 Output Shape              Param #   \n",
      "=================================================================\n",
      "embedding_8 (Embedding)      (None, 20, 8)             80000     \n",
      "_________________________________________________________________\n",
      "lstm_2 (LSTM)                (None, 32)                5248      \n",
      "_________________________________________________________________\n",
      "dense_5 (Dense)              (None, 1)                 33        \n",
      "=================================================================\n",
      "Total params: 85,281\n",
      "Trainable params: 85,281\n",
      "Non-trainable params: 0\n",
      "_________________________________________________________________\n",
      "Train on 20000 samples, validate on 5000 samples\n",
      "Epoch 1/10\n",
      "20000/20000 [==============================] - 12s 586us/step - loss: 0.5943 - acc: 0.6778 - val_loss: 0.5358 - val_acc: 0.7312\n",
      "Epoch 2/10\n",
      "20000/20000 [==============================] - 11s 554us/step - loss: 0.4916 - acc: 0.7761 - val_loss: 0.5100 - val_acc: 0.7458\n",
      "Epoch 3/10\n",
      "20000/20000 [==============================] - 11s 532us/step - loss: 0.4447 - acc: 0.7951 - val_loss: 0.4968 - val_acc: 0.7476\n",
      "Epoch 4/10\n",
      "20000/20000 [==============================] - 11s 530us/step - loss: 0.4198 - acc: 0.8084 - val_loss: 0.4970 - val_acc: 0.7466\n",
      "Epoch 5/10\n",
      "20000/20000 [==============================] - 11s 536us/step - loss: 0.4055 - acc: 0.8146 - val_loss: 0.4957 - val_acc: 0.7536\n",
      "Epoch 6/10\n",
      "20000/20000 [==============================] - 11s 532us/step - loss: 0.3923 - acc: 0.8235 - val_loss: 0.5086 - val_acc: 0.7522\n",
      "Epoch 7/10\n",
      "20000/20000 [==============================] - 11s 537us/step - loss: 0.3839 - acc: 0.8293 - val_loss: 0.4856 - val_acc: 0.7566\n",
      "Epoch 8/10\n",
      "20000/20000 [==============================] - 11s 541us/step - loss: 0.3725 - acc: 0.8352 - val_loss: 0.4922 - val_acc: 0.7582\n",
      "Epoch 9/10\n",
      "20000/20000 [==============================] - 11s 535us/step - loss: 0.3639 - acc: 0.8399 - val_loss: 0.5183 - val_acc: 0.7534\n",
      "Epoch 10/10\n",
      "20000/20000 [==============================] - 11s 542us/step - loss: 0.3553 - acc: 0.8456 - val_loss: 0.5086 - val_acc: 0.7592\n"
     ]
    }
   ],
   "source": [
    "from keras import models\n",
    "from keras import layers\n",
    "\n",
    "model = models.Sequential()\n",
    "model.add(layers.Embedding(10000, 8, input_length=maxlen))\n",
    "model.add(layers.LSTM(32, activation=\"relu\"))\n",
    "#model.add(layers.Flatten())\n",
    "model.add(layers.Dense(1, activation=\"sigmoid\"))\n",
    "\n",
    "model.summary()\n",
    "\n",
    "model.compile(\n",
    "    optimizer=\"rmsprop\", \n",
    "    loss=\"binary_crossentropy\",\n",
    "    metrics=[\"acc\"])\n",
    "\n",
    "history = model.fit(\n",
    "    x_train, y_train,\n",
    "    epochs=10,\n",
    "    batch_size=32,\n",
    "    validation_split=0.2\n",
    ")"
   ]
  },
  {
   "cell_type": "code",
   "execution_count": null,
   "metadata": {},
   "outputs": [],
   "source": []
  }
 ],
 "metadata": {
  "kernelspec": {
   "display_name": "Python 3",
   "language": "python",
   "name": "python3"
  },
  "language_info": {
   "codemirror_mode": {
    "name": "ipython",
    "version": 3
   },
   "file_extension": ".py",
   "mimetype": "text/x-python",
   "name": "python",
   "nbconvert_exporter": "python",
   "pygments_lexer": "ipython3",
   "version": "3.6.4"
  }
 },
 "nbformat": 4,
 "nbformat_minor": 2
}
